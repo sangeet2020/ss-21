{
 "cells": [
  {
   "cell_type": "markdown",
   "metadata": {
    "id": "V7cXfz0cao0H"
   },
   "source": [
    "# Assignment 6\n",
    "\n",
    "Name 1: Sangeet Sagar<br/>\n",
    "Student id 1: 7009050<br/>\n",
    "Email 1: sasa00001@stud.uni-saarland.de<br/>\n",
    "\n",
    "\n",
    "Name 2: Nikhil Paliwal<br/>\n",
    "Student id 2: 7009915<br/>\n",
    "Email 2: nipa00002@stud.uni-saarland.de<br/> \n",
    "\n",
    "**Instructions:** Read each question carefully. <br/>\n",
    "Make sure you appropriately comment your code wherever required. Your final submission should contain the completed Notebook and the Python file for exercise 3. There is no need to submit the data files. <br/>\n",
    "Upload the zipped folder in Teams. Make sure to click on \"Turn-in\" after your upload your submission, otherwise the assignment will not be considered as submitted. Only one from the group should make the submisssion.\n",
    "\n",
    "---"
   ]
  },
  {
   "cell_type": "code",
   "execution_count": 1,
   "metadata": {},
   "outputs": [
    {
     "data": {
      "text/html": [
       "<style>.container { width:100% !important; }</style>"
      ],
      "text/plain": [
       "<IPython.core.display.HTML object>"
      ]
     },
     "metadata": {},
     "output_type": "display_data"
    }
   ],
   "source": [
    "from IPython.core.display import display, HTML\n",
    "display(HTML(\"<style>.container { width:100% !important; }</style>\"))\n",
    "import matplotlib.pyplot as plt\n",
    "import seaborn\n",
    "import matplotlib as mpl\n",
    "seaborn.set()\n",
    "mpl.rcParams['figure.dpi'] = 120"
   ]
  },
  {
   "cell_type": "markdown",
   "metadata": {
    "id": "Yi9e8HHYbq7T"
   },
   "source": [
    "## Exercise 1: MLE & MAP  (3 points)\n",
    "\n",
    "Here is a nice [article](http://pages.cs.wisc.edu/~jerryzhu/cs838/LM.pdf) that explains the difference between MLE and MAP based estimation for language models. \n",
    "\n",
    "**1.1 (1 point)**\n",
    "\n",
    "* Is a MAP estimator always better than MLE? Why is MAP preferred over MLE (explain in context of language modelling)? (0.5 points)\n",
    "\n",
    "* Some smoothing methods use a MAP estimation of the model parameters. One of these is floor discounting, as described on Slide 44 in Chapter 5. <br/>\n",
    "Write the formula for deriving the MAP estimate and the resultant formula for floor discounting. What underlying distribution does the language model assume? What is assumed as the prior? (0.5 pts)"
   ]
  },
  {
   "cell_type": "markdown",
   "metadata": {},
   "source": [
    "**Answer** <br>\n",
    "- MAP is preferred over MLE in cases where words in the vocabulary are missing in the training corpus. MAP takes care of zero probablity by assigning some probability mass from the higher counts to the zero counts. Thus MAP is capable to give probablity to any kind of text irrespective of its presence in the corpus. However, in cases where the training data is large enough that the chances of missing out any unseen tokens are slim, MLE can be used.\n",
    "\n",
    "- Formula for deriving the MAP estimate\n",
    "$$\n",
    "P(w|h) = \\frac{1}{z}(N(w, h) + \\epsilon)\n",
    "$$\n",
    "\n",
    "Formula for floor discounting\n",
    "$$\n",
    "P(w|h) = \\frac{N(w, h) + \\epsilon}{N(h) + \\epsilon \\cdot V}\n",
    "$$\n",
    "\n",
    "Where:\n",
    "- $N(w, h): $ Frequency of the combination  $h, w$\n",
    "- $N(h): $ Frequency of $h$\n",
    "- $\\epsilon: $ discounting parameter, typically $ 0 < \\epsilon \\leq 1$\n",
    "\n",
    "It assumes multinomial distribution with Dirichlet priors.\n"
   ]
  },
  {
   "cell_type": "markdown",
   "metadata": {
    "id": "Yi9e8HHYbq7T"
   },
   "source": [
    "**1.2 (2 points)**\n",
    "\n",
    "Consider the sentences\n",
    "\n",
    "`s1 = They don't know that we know they know!`\n",
    "\n",
    "`s2 = Don't we know that?`\n",
    "\n",
    "* Assume punctuation removal and lowercasing as basic preprocessing steps. Formulate a bigram model (use a circular corpus) on `s1`, note down the conditional probabilities, and use them to determine the probability of `s2`. (0.5 pt)\n",
    "* Now use floor discounting and form similar bigram models with $\\epsilon=1$ and $\\epsilon=0.5$, note down the respective bigram probabilities, and use them to determine the probability of `s2`. (1 pt) \n",
    "* What do you observe? How does the value of $\\epsilon$ influence the MAP prior in both cases? (0.5 pts)"
   ]
  },
  {
   "cell_type": "markdown",
   "metadata": {},
   "source": [
    "**Answer** <br>\n",
    "1. \n",
    "s1 = `they dont know that we know they know` <br>\n",
    "bigrams = ('they', 'dont'), ('dont', 'know'), ('know', 'that'), ('that', 'we'), ('we', 'know'), ('know', 'they'), ('they', 'know'), ('know', 'they') <br>\n",
    "\n",
    "```\n",
    "P(dont| they) = 0.500\n",
    "P(know| dont) = 1.000\n",
    "P(that| know) = 0.333\n",
    "P(we| that) = 1.000\n",
    "P(know| we) = 1.000\n",
    "P(they| know) = 0.667\n",
    "P(know| they) = 0.500\n",
    "\n",
    "\n",
    "P(we| dont) = 0.000\n",
    "P(know| we) = 1.000\n",
    "P(that| know) = 0.333\n",
    "P(dont| that) = 0.000\n",
    "\n",
    "P(s2) = 0*1*0.333*0 = 0\n",
    "\n",
    "```\n",
    "\n",
    "\n",
    "2. \n",
    "$\\epsilon = 0.5$\n",
    "\n",
    "```\n",
    "P(dont| they) = 0.333\n",
    "P(know| dont) = 0.429\n",
    "P(that| know) = 0.273\n",
    "P(we| that) = 0.429\n",
    "P(know| we) = 0.429\n",
    "P(they| know) = 0.455\n",
    "P(know| they) = 0.333\n",
    "\n",
    "\n",
    "P(we| dont) = 0.143\n",
    "P(know| we) = 0.429\n",
    "P(that| know) = 0.273\n",
    "P(dont| that) = 0.143\n",
    "\n",
    "P(s2) = 0.143*0.429*0.273*0.143 = 0.00239\n",
    "```\n",
    "\n",
    "$\\epsilon = 1$\n",
    "\n",
    "```\n",
    "P(dont| they) = 0.286\n",
    "P(know| dont) = 0.333\n",
    "P(that| know) = 0.250\n",
    "P(we| that) = 0.333\n",
    "P(know| we) = 0.333\n",
    "P(they| know) = 0.375\n",
    "P(know| they) = 0.286\n",
    "\n",
    "\n",
    "P(we| dont) = 0.167\n",
    "P(know| we) = 0.333\n",
    "P(that| know) = 0.250\n",
    "P(dont| that) = 0.167\n",
    "\n",
    "P(s2) = 0.167*0.333*0.250*0.167 = 0.00232\n",
    "```\n",
    "\n",
    "\n",
    "3.\n",
    "\n",
    "No smoothing | $\\epsilon=0.5$ | $\\epsilon=1$\n",
    "- | - | -\n",
    "![alt](image/1.png) | ![alt](image/2.png) | ![alt](image/3.png)\n",
    "\n",
    "Observe that with $\\epsilon=1$ the probablity distribution becomes more smooth. It means the sharing of probablities to lower counts was performed to higher extent than in the case with $\\epsilon=0.5$"
   ]
  },
  {
   "cell_type": "markdown",
   "metadata": {
    "id": "0jjZwN7YbrMM"
   },
   "source": [
    "## Exercise 2: Good-Turing (3 points)\n",
    "\n",
    "#### 2.1: Estimate of unknown words (0.5 points)\n",
    "\n",
    "Imagine that you're given a split into (1) training data and (2) test data. They come from the same distribution but you're forbidden to make any other splits.\n",
    "\n",
    "- What is the MLE estimate of frequency of unseen words on (2)?\n",
    "- What other, better, strategy could be employed to estimate frequency of unseen words from (1) on (2)?"
   ]
  },
  {
   "cell_type": "markdown",
   "metadata": {},
   "source": [
    "**Answer** <br>\n",
    "- MLE estimate of frequency of unseen words are $0$.\n",
    "- Frequency of such unseen words can be repalced with the net frequency of all singleton word types (i.e. total frequency of words whose frequency is 1)."
   ]
  },
  {
   "cell_type": "markdown",
   "metadata": {
    "id": "0jjZwN7YbrMM"
   },
   "source": [
    "#### 2.2: Data split (0.5 points)\n",
    "\n",
    "- Usually when preparing a new model, we split the dataset to (1) training data, (2) held-out data and (3) test data. Comment briefly on what each part of the dataset is used for and especially on the distinction between (1) and (2)."
   ]
  },
  {
   "cell_type": "markdown",
   "metadata": {},
   "source": [
    "**Answer** <br>\n",
    "Held out data is used to set meta-parameters. We use training data to train some ngram model and using this we determine the (best) parameters (lambda) that gives the highest probablity on the held-out dataset. Those parameters are finally used to determine the distribution on the test data.\n",
    "\n"
   ]
  },
  {
   "cell_type": "markdown",
   "metadata": {
    "id": "0jjZwN7YbrMM"
   },
   "source": [
    "#### 2.3: Good-Turing Formula (1 point)\n",
    "\n",
    "- What is the formula for updated counts for words of frequency $k \\ne 0$?\n",
    "- What is the Good-Turing formula for estimating unseen words, $k=0$?\n",
    "- Given the updated counts $c^*_k$, how does Good-Turing estimate relate to language model smoothing? How do you define the smoothed distribution?\n",
    "- Is there any systematic relationship between the original counts and the new counts? e.g. for large enough $k$, $c^*_k \\ge k$. \n",
    "- Compute and compare the absolute frequencies and Good-Turing estimates for the words `three` and `syringes` in the following text.\n",
    "\n",
    "```\n",
    "thirty - three thousand three hundred and thirty silver syringes which cost three hundred and thirty - two crowns . .\n",
    "```"
   ]
  },
  {
   "cell_type": "markdown",
   "metadata": {},
   "source": [
    "**Answer**\n",
    "\n",
    "1. \n",
    "$$\n",
    "c^*_k = (c_k+1)\\frac{N_{k+1}}{N_k}\n",
    "$$\n",
    "\n",
    "2. \n",
    "$$\n",
    "c^*_k = \\frac{N_{1}}{N}\n",
    "$$\n",
    "where: <br>\n",
    "- $N_{k}$: Frequency of frequency of $k$ (i.e. freuency of all such words that occur $k$ times)\n",
    "\n",
    "3. Good turing estimate actually follows the idea - Use the counts of what we have seen once to estimate things we have seen zero times. The smoothed distribution is a power law distribution.\n",
    "\n",
    "4. Yes, for large enough $k$, $$c^*_k = c_k$$.\n",
    "\n",
    "5. We have \n",
    "```\n",
    "'thirty': 3,\n",
    "'three': 3,\n",
    "'hundred': 2,\n",
    "'and': 2,\n",
    "'thousand': 1,\n",
    "'silver': 1,\n",
    "'syringes': 1,\n",
    "'which': 1,\n",
    "'cost': 1,\n",
    "'two': 1,\n",
    "'crowns': 1\n",
    "```\n",
    "$N = 17$ <br>\n",
    "$N_1 = 7$ <br>\n",
    "$N_2 = 2$ <br>\n",
    "$N_3 = 2$ <br>\n",
    "\n",
    "- Seen thrice `three`\n",
    "    - Take k = 3\n",
    "    - MLE_p = $\\frac{3}{17}$\n",
    "    - $C^*({\\text{three}}) = (3+1) \\cdot \\frac{N_4}{N_3} = 3$ (since $k$ is large here i.e maximum occurence, $c^* = c_k$. Therefore $c^* = 3$)\n",
    "    - $P^*_{GT}(\\text{three}) = \\frac{3}{17} = 0.1764$\n",
    "    - $P^*_{absolute}(\\text{three}) = \\frac{3}{17} = 0.1764$\n",
    "\n",
    "\n",
    "- Seen once `syringes`\n",
    "    - Take k = 1\n",
    "    - MLE_p = $\\frac{1}{17}$\n",
    "    - $C^*({\\text{syringes}}) = 2*\\frac{N_2}{N_1} = 2*\\frac{2}{7} = \\frac{4}{7}$\n",
    "    - $P^*_{GT}(\\text{syringes}) = \\frac{\\frac{4}{7}}{17} = 0.0336$\n",
    "    - $P^*_{absolute}(\\text{syringes}) = \\frac{1}{17} = 0.0588$\n",
    "    "
   ]
  },
  {
   "cell_type": "markdown",
   "metadata": {
    "id": "0jjZwN7YbrMM"
   },
   "source": [
    "#### 2.4: Frequent buckets (1 point)\n",
    "\n",
    "- In your own words, what is the issue with Good-Turing when estimating the new counts for the very frequent words?\n",
    "- See page 5, paragraph 3 of [Good‐Turing Smoothing Without Tears](http://deanfoster.net/teaching/data_mining/good_turing.pdf) by Gale and Sampson (1995). What solution do they propose?"
   ]
  },
  {
   "cell_type": "markdown",
   "metadata": {},
   "source": [
    "**Answer** <br>\n",
    "Some known problems with good turing estimates:\n",
    "- when $k$ is very large i.e. its values is equal to maximum occurence in the train corpus (for eg. $k$=3 and there are no items are that appear $k+1$ times), then there is possible conflict with the defined formula ($N_{k+1}=0$) as described in Section 2.3.1\n",
    "- the probablities do not sum upto 1\n",
    "\n",
    "Possible solutions:\n",
    "- smooth $N_{k}$ counts so they all are non zero\n",
    "- In the given article they discuss to setting $N_{k}=1$"
   ]
  },
  {
   "cell_type": "markdown",
   "metadata": {
    "id": "HztKiKEpbrXt"
   },
   "source": [
    "## Exercise 3: Cross-Validation (4 points)\n",
    "\n",
    "<!-- ### 3.0 Bible studies -->\n",
    "\n",
    "Imagine you are a linguist in the remote future who just rediscovered a book called \"Bible\". To your disappointment the book is obviously incomplete; all the pages between Genesis and the Apocalypse are torn out, maybe by some late Christian cult. Since you don't know the language of the book you want to build a first language model that you can use if you find any of the lost parts. You digitize the book with your state-of-the art portable digitizer, and then load it into one of your Python 10.0 notebooks.\n",
    "\n",
    "**3.1 Baseline (0.5 points)**\n",
    "\n",
    "* The two corpora are in the text files `genesis.txt` and `apocalypsis.txt`. Load them into the notebook, preprocess them by removing all non-alphabetical characters, and then concatenate them into a single corpus. Split the corpus into a train and a test set, with the test set comprising the _last_ 20% of the corpus. You may use your code from previous exercises for this. (0.25 points)\n"
   ]
  },
  {
   "cell_type": "code",
   "execution_count": 2,
   "metadata": {
    "id": "rDVzYp5zKSVC"
   },
   "outputs": [],
   "source": [
    "# Load data\n",
    "from pathlib import Path\n",
    "import re\n",
    "import random\n",
    "import string\n",
    "from importlib import reload\n",
    "import exercise_3\n",
    "exercise_3 = reload(exercise_3)\n",
    "\n",
    "genesis_text = Path(\"data/genesis.txt\").open('r').read()\n",
    "apocalypsis_text = Path(\"data/apocalypsis.txt\").open('r').read()\n",
    "\n",
    "# preprocess\n",
    "def preprocess(text):\n",
    "    file_content = text.lower()\n",
    "    file_content = file_content.translate(str.maketrans('', '', string.punctuation))\n",
    "    tokens_list = file_content.split()\n",
    "    return tokens_list\n",
    "\n",
    "genesis_preprocessed = preprocess(genesis_text)\n",
    "apocalypsis_preprocessd = preprocess(apocalypsis_text)\n",
    "\n",
    "# concatenate\n",
    "corpus = genesis_preprocessed + apocalypsis_preprocessd\n",
    "\n",
    "# train, test split\n",
    "train, test = exercise_3.train_test_split_data(corpus)"
   ]
  },
  {
   "cell_type": "markdown",
   "metadata": {
    "id": "Uk5YNPJ_Ky0s"
   },
   "source": [
    "* Using your language model class from the previous assignment, estimate a trigram language model on the train set and report perplexity on the test. Use $\\alpha=1$. Does this represent an unbiased estimate of the model's capacity? (0.25 points)"
   ]
  },
  {
   "cell_type": "code",
   "execution_count": 3,
   "metadata": {
    "id": "0NsFQMfyPcl1"
   },
   "outputs": [
    {
     "name": "stdout",
     "output_type": "stream",
     "text": [
      "Perplexity of trigram LM = 3680.0276784664616\n"
     ]
    }
   ],
   "source": [
    "# TODO: trigram LM\n",
    "import lm\n",
    "lm = reload(lm)\n",
    "\n",
    "N = 3\n",
    "LM = lm.LanguageModel(train, test, N=N, alpha=1)\n",
    "pp = LM.perplexity()\n",
    "\n",
    "print('Perplexity of trigram LM = {}'.format(pp))"
   ]
  },
  {
   "cell_type": "markdown",
   "metadata": {},
   "source": [
    "**Does this represent an unbiased estimate of the model's capacity?** <br>\n",
    "No this does not represent the unbiased estimate as the corpus was not shuffled prior to LM training. The train set has many tokens missing from the test set becuase the train test split was performed in an imbalanced manner. The test set has tokens related to `apocalypsis.txt` while train set has tokens related to `genesis.txt`."
   ]
  },
  {
   "cell_type": "markdown",
   "metadata": {
    "id": "z9uIbyb7LoYT"
   },
   "source": [
    "**3.2 Average Perplexity (2 points)**\n",
    "\n",
    "* Since you want to get an unbiased estimate of your model's capacity, you decide to apply k-fold cross-validation on your corpus. To do this, implement the function `k_validation_folds` in `exercise_2.py`. Use it to split your corpus into $k=5$ cross-validation folds, and make sure that the folds are of the same size. (1 point)\n",
    "\n",
    "* Now, estimate a trigram language model on each of the CV folds. You may again use your class from the previous assignment, and average over all perplexity scores. Does the average score differ from the one obtained in 3.2, and why? (1 point)"
   ]
  },
  {
   "cell_type": "code",
   "execution_count": 4,
   "metadata": {
    "id": "5d2o5fTiMo13"
   },
   "outputs": [
    {
     "name": "stdout",
     "output_type": "stream",
     "text": [
      "Average perplexity for 5-folds 2868.120649043175\n"
     ]
    }
   ],
   "source": [
    "import numpy as np\n",
    "exercise_3 = reload(exercise_3)\n",
    "# 5-fold cross-validation\n",
    "k_folds = 5\n",
    "cv_folds = exercise_3.k_validation_folds(corpus, k_folds)\n",
    "\n",
    "\n",
    "\n",
    "# estimate 5 trigram LMs!\n",
    "pp_folds = np.zeros(k_folds)\n",
    "for i in range(k_folds):\n",
    "    train = cv_folds[i-1:i] + cv_folds[i+1:] if i != 0 else cv_folds[i+1:]\n",
    "    train = [item for sublist in train for item in sublist]\n",
    "    LM = lm.LanguageModel(train, cv_folds[i], N=N, alpha=1)\n",
    "    pp_folds[i] = LM.perplexity()\n",
    "    \n",
    "avrg_PP = np.sum(pp_folds)/k_folds\n",
    "print('Average perplexity for 5-folds {}'.format(avrg_PP))"
   ]
  },
  {
   "cell_type": "markdown",
   "metadata": {},
   "source": [
    "**Does the average score differ from the one obtained in 3.2, and why?** <br>\n",
    "Perplexity witout k-fold comes out to be 3680.027 and with k-fold comes to be 2868.120. This difference is due to the advantage that lies with k-fold CV. With k-fold every data point gets to be in a test set exactly once, and gets to be in a training set k-1 times. The variance of the resulting estimate is reduced as k is increased."
   ]
  },
  {
   "cell_type": "markdown",
   "metadata": {
    "id": "kRakHZmFNALS"
   },
   "source": [
    "**3.3 Hyperparameter Tuning (1.5 points)**\n",
    "\n",
    "* As you don't know anything about the language the book is written in, you have to find the best hyperparemter $\\alpha$ for your model by a brute-force search (recall how you did this in the last assignment). Since you know from 3.2 that your data is not balanced, you decide to use only the averaged perplexity score (derived from $k=5$ CV folds) for this. Do so by completing the loop in the code cell below. Then, plot the obtained perplexity scores vs. $\\alpha$. You do so by reusing the respective function from Assignment 5. (1 point)\n",
    "\n",
    "(**Hint:** This could take a while.)"
   ]
  },
  {
   "cell_type": "code",
   "execution_count": 5,
   "metadata": {
    "id": "-ada-400O8kO"
   },
   "outputs": [
    {
     "data": {
      "image/png": "[encoded data removed]",
      "text/plain": [
       "<Figure size 720x480 with 1 Axes>"
      ]
     },
     "metadata": {},
     "output_type": "display_data"
    }
   ],
   "source": [
    "# hyperparamter tuning, CV\n",
    "alphas = [x*0.01 for x in range(1,101)]\n",
    "N = 3\n",
    "PPs = []\n",
    "for alpha in alphas:\n",
    "    pp_folds = np.zeros(k_folds)\n",
    "    for i in range(k_folds):\n",
    "        train = cv_folds[i-1:i] + cv_folds[i+1:] if i != 0 else cv_folds[i+1:]\n",
    "        train = [item for sublist in train for item in sublist]\n",
    "        LM = lm.LanguageModel(train, cv_folds[i], N=N, alpha=alpha)\n",
    "        pp_folds[i] = LM.perplexity()\n",
    "\n",
    "    avrg_PP = np.sum(pp_folds)/k_folds\n",
    "    PPs.append(avrg_PP)\n",
    "\n",
    "# TODO: plot!\n",
    "exercise_3.plot_pp_vs_alpha(PPs, alphas)"
   ]
  },
  {
   "cell_type": "markdown",
   "metadata": {
    "id": "IGq72SKNP-tb"
   },
   "source": [
    "* Repeat the tuning process for unigram and bigram language models. Does your estimate of $\\alpha$ differ? Why? (0.5 points)"
   ]
  },
  {
   "cell_type": "code",
   "execution_count": 6,
   "metadata": {
    "id": "4as-q5FJP9wL"
   },
   "outputs": [
    {
     "data": {
      "image/png": "[encoded data removed]",
      "text/plain": [
       "<Figure size 720x480 with 1 Axes>"
      ]
     },
     "metadata": {},
     "output_type": "display_data"
    }
   ],
   "source": [
    "# hyperparamter tuning, bigram + trigram\n",
    "\n",
    "PP_dict = dict()\n",
    "N = 3\n",
    "for n in range(1,N):\n",
    "    PPs = []\n",
    "    for alpha in alphas:\n",
    "        pp_folds = np.zeros(k_folds)\n",
    "        for i in range(k_folds):\n",
    "            train = cv_folds[i-1:i] + cv_folds[i+1:] if i != 0 else cv_folds[i+1:]\n",
    "            train = [item for sublist in train for item in sublist]\n",
    "            LM = lm.LanguageModel(train, cv_folds[i], N=n, alpha=alpha)\n",
    "            pp_folds[i] = LM.perplexity()\n",
    "\n",
    "        avrg_PP = np.sum(pp_folds)/k_folds\n",
    "        PPs.append(avrg_PP)\n",
    "    PP_dict[n] = PPs\n",
    "\n",
    "\n",
    "exercise_3 = reload(exercise_3)\n",
    "exercise_3.plot_PPS_vs_alpha(PP_dict, alphas)"
   ]
  },
  {
   "cell_type": "markdown",
   "metadata": {},
   "source": [
    "**Does your estimate of $\\alpha$  differ? Why?** <br>\n",
    "Yes. For trigrams and bigrams the perplexity increases with increase in value of alpha. Thus bigrams and trigrams are more favourable with lower alpha. However, for unigrams the reverse is true. With higher value of alpha, the perplexity increases."
   ]
  }
 ],
 "metadata": {
  "colab": {
   "collapsed_sections": [],
   "name": "Assignment6.ipynb",
   "provenance": []
  },
  "kernelspec": {
   "display_name": "Python 3",
   "language": "python",
   "name": "python3"
  },
  "language_info": {
   "codemirror_mode": {
    "name": "ipython",
    "version": 3
   },
   "file_extension": ".py",
   "mimetype": "text/x-python",
   "name": "python",
   "nbconvert_exporter": "python",
   "pygments_lexer": "ipython3",
   "version": "3.8.5"
  }
 },
 "nbformat": 4,
 "nbformat_minor": 1
}
